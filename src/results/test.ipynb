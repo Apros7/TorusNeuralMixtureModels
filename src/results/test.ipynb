{
 "cells": [
  {
   "cell_type": "markdown",
   "metadata": {},
   "source": [
    "Vi har lidt problemer med NMI. Her er den kode fra dig:"
   ]
  },
  {
   "cell_type": "code",
   "execution_count": 2,
   "metadata": {},
   "outputs": [],
   "source": [
    "import numpy as np\n",
    "\n",
    "# Z1 er output fra ligning 12 matsuda\n",
    "\n",
    "def calc_MI(Z1,Z2):\n",
    "   P=Z1@Z2.T\n",
    "   PXY=P/np.sum(P)\n",
    "   PXPY=np.outer(np.sum(PXY,axis=1),np.sum(PXY,axis=0))\n",
    "   ind=np.where(PXY>0)\n",
    "   MI=np.sum(PXY[ind]*np.log(PXY[ind]/PXPY[ind]))\n",
    "   return MI\n",
    "\n",
    "\n",
    "def calc_NMI(Z1,Z2):\n",
    "   Z1 = np.double(Z1)\n",
    "   Z2 = np.double(Z2)\n",
    "   #Z1 and Z2 are two partition matrices of size (KxN) where K is number of components and N is number of samples\n",
    "   NMI = (2*calc_MI(Z1,Z2))/(calc_MI(Z1,Z1)+calc_MI(Z2,Z2))\n",
    "   return NMI\n"
   ]
  },
  {
   "cell_type": "markdown",
   "metadata": {},
   "source": [
    "Ideen er, at vi har vores log_probs eksempelvis sådan:\n",
    "```\n",
    "Z1 = np.array([[0.88, 0.04, 0.08], [0.3, 0.6, 0.1], [0.09, 0.01, 0.9]])\n",
    "```\n",
    "Vores vil selvfølgelig være meget større, det er bare for at se, hvordan NMI virker\n",
    "\n",
    "Og så vil vores one-hot encoded output labels eksempelvis være:\n",
    "```\n",
    "Z2 = np.array([[1, 0, 0], [0, 1, 0], [0, 0, 1]])\n",
    "```\n",
    "\n",
    "Vi kan nu regne NMI:"
   ]
  },
  {
   "cell_type": "code",
   "execution_count": 13,
   "metadata": {},
   "outputs": [
    {
     "data": {
      "text/plain": [
       "0.3414137202611298"
      ]
     },
     "execution_count": 13,
     "metadata": {},
     "output_type": "execute_result"
    }
   ],
   "source": [
    "Z1 = np.array([[0.88, 0.04, 0.08], [0.3, 0.6, 0.1], [0.9, 0.01, 0.09], [0.1, 0.2, 0.7]]).T\n",
    "Z2 = np.array([[1, 0, 0], [0, 1, 0], [0, 0, 1], [1, 0, 0]]).T\n",
    "\n",
    "calc_NMI(Z1, Z2)"
   ]
  },
  {
   "cell_type": "code",
   "execution_count": 14,
   "metadata": {},
   "outputs": [
    {
     "data": {
      "text/plain": [
       "(3, 4)"
      ]
     },
     "execution_count": 14,
     "metadata": {},
     "output_type": "execute_result"
    }
   ],
   "source": [
    "Z1.shape"
   ]
  },
  {
   "cell_type": "markdown",
   "metadata": {},
   "source": [
    "Her får vi 0.63. Men hvis vi blot ændrer rækkefølge på det sidste datapunkt, hvilken, som jeg forstod det, NMI ville være uafhængig af, så ændrer det også udfaldet:"
   ]
  },
  {
   "cell_type": "code",
   "execution_count": 12,
   "metadata": {},
   "outputs": [
    {
     "data": {
      "text/plain": [
       "0.34141372026113004"
      ]
     },
     "execution_count": 12,
     "metadata": {},
     "output_type": "execute_result"
    }
   ],
   "source": [
    "Z1 = np.array([[0.88, 0.04, 0.08], [0.3, 0.6, 0.1], [0.9, 0.01, 0.09], [0.1, 0.2, 0.7]]).T\n",
    "Z2 = np.array([[0, 0, 1], [0, 1, 0], [1, 0, 0], [0, 0, 1]]).T\n",
    "\n",
    "calc_NMI(Z1, Z2)"
   ]
  },
  {
   "cell_type": "markdown",
   "metadata": {},
   "source": [
    "Det samme gælder, hvis vi ændrer andre dele af log_probs uden, at det egentlig burde have nogen effekt:"
   ]
  },
  {
   "cell_type": "code",
   "execution_count": 7,
   "metadata": {},
   "outputs": [
    {
     "data": {
      "text/plain": [
       "0.7304500109819251"
      ]
     },
     "execution_count": 7,
     "metadata": {},
     "output_type": "execute_result"
    }
   ],
   "source": [
    "# Ændrer første del af Z1\n",
    "Z1 = np.array([[0.88, 0.08, 0.04], [0.3, 0.6, 0.1], [0.09, 0.01, 0.9]]).T\n",
    "Z2 = np.array([[1, 0, 0], [0, 1, 0], [0, 0, 1]]).T\n",
    "\n",
    "calc_NMI(Z1, Z2)"
   ]
  },
  {
   "cell_type": "markdown",
   "metadata": {},
   "source": [
    "Så det virker til, at det er meget vigtigt, hvordan man sætter disse matricer op imod hinanden. Vi tænkte at brute-force ligesom ved accuracy for at finde de clusters, der giver den højeste værdi, dog stemmer dette ikke helt overens med, hvad du sagde. Har vi misforstået noget, eller kan du muligvis give et hint til, hvad der kunne være galt."
   ]
  },
  {
   "cell_type": "code",
   "execution_count": null,
   "metadata": {},
   "outputs": [],
   "source": []
  }
 ],
 "metadata": {
  "kernelspec": {
   "display_name": "Python 3.11.2 64-bit",
   "language": "python",
   "name": "python3"
  },
  "language_info": {
   "codemirror_mode": {
    "name": "ipython",
    "version": 3
   },
   "file_extension": ".py",
   "mimetype": "text/x-python",
   "name": "python",
   "nbconvert_exporter": "python",
   "pygments_lexer": "ipython3",
   "version": "3.11.2"
  },
  "orig_nbformat": 4,
  "vscode": {
   "interpreter": {
    "hash": "5c7b89af1651d0b8571dde13640ecdccf7d5a6204171d6ab33e7c296e100e08a"
   }
  }
 },
 "nbformat": 4,
 "nbformat_minor": 2
}
